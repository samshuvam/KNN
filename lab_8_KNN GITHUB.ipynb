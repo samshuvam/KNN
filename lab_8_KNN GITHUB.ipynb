{
  "nbformat": 4,
  "nbformat_minor": 0,
  "metadata": {
    "colab": {
      "provenance": []
    },
    "kernelspec": {
      "name": "python3",
      "display_name": "Python 3"
    },
    "language_info": {
      "name": "python"
    }
  },
  "cells": [
    {
      "cell_type": "markdown",
      "source": [
        "#Import"
      ],
      "metadata": {
        "id": "0qo2YywwKIrT"
      }
    },
    {
      "cell_type": "code",
      "execution_count": 24,
      "metadata": {
        "id": "qK-9UGpBFElo"
      },
      "outputs": [],
      "source": [
        "import pandas as pd\n",
        "import random\n",
        "import math\n",
        "import matplotlib.pyplot as plt"
      ]
    },
    {
      "cell_type": "markdown",
      "source": [
        "#Load Dataset"
      ],
      "metadata": {
        "id": "LUaDpxd1Kpxq"
      }
    },
    {
      "cell_type": "code",
      "source": [
        "df = pd.read_csv('iris.csv')"
      ],
      "metadata": {
        "id": "bev3EHuPMG1C"
      },
      "execution_count": 25,
      "outputs": []
    },
    {
      "cell_type": "markdown",
      "source": [
        "Separate features and labels manually"
      ],
      "metadata": {
        "id": "uAm4Jn1iSke6"
      }
    },
    {
      "cell_type": "code",
      "source": [
        "# data = [(row[:-1], row[-1]) for row in df.values]\n",
        "data = [(row[:-1], row[-1]) for row in df.values]\n",
        "label_mapping = {'setosa': 0, 'versicolor': 1, 'virginica': 2}"
      ],
      "metadata": {
        "id": "jye3B3IhSdSr"
      },
      "execution_count": 26,
      "outputs": []
    },
    {
      "cell_type": "markdown",
      "source": [
        "# Next Standardization"
      ],
      "metadata": {
        "id": "DQPgiKACWFr3"
      }
    },
    {
      "cell_type": "code",
      "source": [
        "def manual_standardize(data):\n",
        "    features = [list(row[0]) for row in data]\n",
        "    transposed_features = list(zip(*features))\n",
        "\n",
        "    means = [sum(feature) / len(feature) for feature in transposed_features]\n",
        "    std_devs = [math.sqrt(sum((x - mean) ** 2 for x in feature) / len(feature))\n",
        "                for feature, mean in zip(transposed_features, means)]\n",
        "\n",
        "    standardized_data = [\n",
        "        ([(x - mean) / std if std != 0 else 0 for x, mean, std in zip(row[0], means, std_devs)], row[1])\n",
        "        for row in data\n",
        "    ]\n",
        "\n",
        "    return standardized_data"
      ],
      "metadata": {
        "id": "jn76S5-iWD2D"
      },
      "execution_count": 27,
      "outputs": []
    },
    {
      "cell_type": "markdown",
      "source": [
        "# Standardize the data"
      ],
      "metadata": {
        "id": "nX0Skt_zWbO_"
      }
    },
    {
      "cell_type": "code",
      "source": [
        "data = manual_standardize(data)"
      ],
      "metadata": {
        "id": "U-CZzXpjWcxw"
      },
      "execution_count": 28,
      "outputs": []
    },
    {
      "cell_type": "markdown",
      "source": [
        "# Split into train and test sets"
      ],
      "metadata": {
        "id": "8cE9L1l5K-rs"
      }
    },
    {
      "cell_type": "code",
      "source": [
        "# def train_test_split(data, test_size=0.3):\n",
        "#     random.shuffle(data)\n",
        "#     split_idx = int(len(data) * (1 - test_size))\n",
        "#     return data[:split_idx], data[split_idx:]\n",
        "\n",
        "def train_test_split(data, test_size=0.3):\n",
        "    random.shuffle(data)\n",
        "    split_idx = int(len(data) * (1 - test_size))\n",
        "    return data[:split_idx], data[split_idx:]\n",
        "\n",
        "train_data, test_data = train_test_split(data)"
      ],
      "metadata": {
        "id": "opCAthAsMP7P"
      },
      "execution_count": 29,
      "outputs": []
    },
    {
      "cell_type": "markdown",
      "source": [
        "# Calculate Euclidean distance"
      ],
      "metadata": {
        "id": "BHax9ddOMyaF"
      }
    },
    {
      "cell_type": "code",
      "source": [
        "def euclidean_distance(point1, point2):\n",
        "    return math.sqrt(sum((a - b) ** 2 for a, b in zip(point1, point2)))"
      ],
      "metadata": {
        "id": "cyRSiVX_MSUf"
      },
      "execution_count": 30,
      "outputs": []
    },
    {
      "cell_type": "markdown",
      "source": [
        "# Calculate city block distance\n"
      ],
      "metadata": {
        "id": "_EXeCcUgPHu9"
      }
    },
    {
      "cell_type": "code",
      "source": [
        "# def manhattan_distance(point1, point2):\n",
        "#     return sum(abs(a - b) for a, b in zip(point1, point2))"
      ],
      "metadata": {
        "id": "TXPx7ZggPECh"
      },
      "execution_count": 31,
      "outputs": []
    },
    {
      "cell_type": "code",
      "source": [
        "# label_mapping = {'setosa': 0, 'versicolor': 1, 'virginica': 2}"
      ],
      "metadata": {
        "id": "goVhghXpVuFk"
      },
      "execution_count": 32,
      "outputs": []
    },
    {
      "cell_type": "markdown",
      "source": [
        "#K nearest neighbors\n"
      ],
      "metadata": {
        "id": "ezPDSwC5MzZN"
      }
    },
    {
      "cell_type": "code",
      "source": [
        "def get_neighbors(train_data, test_instance, k):\n",
        "    distances = [(train_instance, euclidean_distance(test_instance[0], train_instance[0])) for train_instance in train_data]\n",
        "    distances.sort(key=lambda x: x[1])\n",
        "    return [distances[i][0] for i in range(k)]"
      ],
      "metadata": {
        "id": "9XS0aYg5MU2C"
      },
      "execution_count": 33,
      "outputs": []
    },
    {
      "cell_type": "markdown",
      "source": [
        "# Make predictions based on majority vote\n"
      ],
      "metadata": {
        "id": "5A-EQ61LM5Jy"
      }
    },
    {
      "cell_type": "code",
      "source": [
        "def predict_classification(neighbors):\n",
        "    classes = [neighbor[1] for neighbor in neighbors]\n",
        "    return max(set(classes), key=classes.count)"
      ],
      "metadata": {
        "id": "gbBvojLbMWXD"
      },
      "execution_count": 34,
      "outputs": []
    },
    {
      "cell_type": "markdown",
      "source": [
        "# K-NN Algorithm\n"
      ],
      "metadata": {
        "id": "gZnmxL3GM6wb"
      }
    },
    {
      "cell_type": "code",
      "source": [
        "def knn(train_data, test_data, k):\n",
        "    predictions = []\n",
        "    for test_instance in test_data:\n",
        "        neighbors = get_neighbors(train_data, test_instance, k)\n",
        "        prediction = predict_classification(neighbors)\n",
        "        predictions.append(prediction)\n",
        "    return predictions"
      ],
      "metadata": {
        "id": "ks69ydbyMX1j"
      },
      "execution_count": 35,
      "outputs": []
    },
    {
      "cell_type": "markdown",
      "source": [
        "# Calculate accuracy"
      ],
      "metadata": {
        "id": "qPGLhQ0CTknZ"
      }
    },
    {
      "cell_type": "code",
      "source": [
        "def calculate_accuracy(test_data, predictions):\n",
        "    correct = sum(1 for actual, predicted in zip(test_data, predictions) if actual[1] == predicted)\n",
        "    return correct / len(test_data)"
      ],
      "metadata": {
        "id": "494-AvAdTe4v"
      },
      "execution_count": 36,
      "outputs": []
    },
    {
      "cell_type": "markdown",
      "source": [
        "# Generate confusion matrix\n"
      ],
      "metadata": {
        "id": "sYRKyu70M84W"
      }
    },
    {
      "cell_type": "code",
      "source": [
        "def confusion_matrix(test_data, predictions, label_mapping):\n",
        "    num_classes = len(label_mapping)\n",
        "    matrix = [[0] * num_classes for _ in range(num_classes)]\n",
        "    for actual, predicted in zip(test_data, predictions):\n",
        "        actual_idx = label_mapping[actual[1]]\n",
        "        predicted_idx = label_mapping[predicted]\n",
        "        matrix[actual_idx][predicted_idx] += 1\n",
        "    return matrix"
      ],
      "metadata": {
        "id": "4VEFZexsMZwH"
      },
      "execution_count": 37,
      "outputs": []
    },
    {
      "cell_type": "markdown",
      "source": [
        "# K vs Error Rate and K vs Accuracy\n"
      ],
      "metadata": {
        "id": "k-ghxTIDXbQj"
      }
    },
    {
      "cell_type": "code",
      "source": [
        "# # def plot_k_vs_error(k_values, errors):\n",
        "# #     plt.plot(k_values, errors, marker='o')\n",
        "# #     plt.title('K vs Error Rate')\n",
        "# #     plt.xlabel('K')\n",
        "# #     plt.ylabel('Error Rate')\n",
        "# #     plt.show()\n",
        "\n",
        "# def plot_metrics(k_values, errors, accuracies):\n",
        "#     plt.figure(figsize=(12, 5))\n",
        "\n",
        "#     # Plot Error Rate\n",
        "#     plt.subplot(1, 2, 1)\n",
        "#     plt.plot(k_values, errors, marker='o', linestyle='dashed', color='blue')\n",
        "#     plt.title('Error Rate vs K Value')\n",
        "#     plt.xlabel('K')\n",
        "#     plt.ylabel('Error Rate')\n",
        "\n",
        "#     # Plot Accuracy\n",
        "#     plt.subplot(1, 2, 2)\n",
        "#     plt.plot(k_values, accuracies, marker='o', linestyle='dashed', color='green')\n",
        "#     plt.title('Accuracy vs K Value')\n",
        "#     plt.xlabel('K')\n",
        "#     plt.ylabel('Accuracy')\n",
        "\n",
        "#     plt.tight_layout()\n",
        "#     plt.show()"
      ],
      "metadata": {
        "id": "jYzF6udYXdBY"
      },
      "execution_count": 38,
      "outputs": []
    },
    {
      "cell_type": "code",
      "source": [
        "def plot_error_rate(k_values, errors):\n",
        "    plt.figure(figsize=(8, 5))\n",
        "    plt.plot(k_values, errors, marker='o', linestyle='dashed', color='blue')\n",
        "    plt.title('Error Rate vs K Value')\n",
        "    plt.xlabel('K')\n",
        "    plt.ylabel('Error Rate')\n",
        "    plt.show()"
      ],
      "metadata": {
        "id": "BqPV6MVJc-RC"
      },
      "execution_count": 39,
      "outputs": []
    },
    {
      "cell_type": "code",
      "source": [
        "def plot_accuracy(k_values, accuracies):\n",
        "    plt.figure(figsize=(8, 5))\n",
        "    plt.plot(k_values, accuracies, marker='o', linestyle='dashed', color='green')\n",
        "    plt.title('Accuracy vs K Value')\n",
        "    plt.xlabel('K')\n",
        "    plt.ylabel('Accuracy')\n",
        "    plt.show()"
      ],
      "metadata": {
        "id": "PGDmkaNbdAuy"
      },
      "execution_count": 40,
      "outputs": []
    },
    {
      "cell_type": "markdown",
      "source": [
        "# Plot K vs Accuracy\n"
      ],
      "metadata": {
        "id": "2tMyIv1JM-d-"
      }
    },
    {
      "cell_type": "code",
      "source": [
        "def plot_accuracy(k_values, accuracies):\n",
        "    plt.figure(figsize=(8, 5))\n",
        "    plt.plot(k_values, accuracies, marker='o', linestyle='dashed', color='green')\n",
        "    plt.title('Accuracy vs K Value')\n",
        "    plt.xlabel('K')\n",
        "    plt.ylabel('Accuracy')\n",
        "    plt.show()"
      ],
      "metadata": {
        "id": "xG_EEfp7Md-C"
      },
      "execution_count": 41,
      "outputs": []
    },
    {
      "cell_type": "markdown",
      "source": [
        "# Main driver\n"
      ],
      "metadata": {
        "id": "M1oulGqXNBdN"
      }
    },
    {
      "cell_type": "code",
      "source": [
        "# # train_data, test_data = train_test_split(data)\n",
        "# k_values = list(range(1, 21))\n",
        "# errors = []\n",
        "\n",
        "k_values = list(range(1, 40))  # Testing values of K from 1 to 39\n",
        "errors = []\n",
        "accuracies = []"
      ],
      "metadata": {
        "id": "-HpxHn7mMfsF"
      },
      "execution_count": 42,
      "outputs": []
    },
    {
      "cell_type": "markdown",
      "source": [
        "# Testing different K values"
      ],
      "metadata": {
        "id": "wwvLSYtNNDVr"
      }
    },
    {
      "cell_type": "code",
      "source": [
        "# k_values = list(range(1, 21))\n",
        "# accuracies = []\n",
        "\n",
        "# for k in k_values:\n",
        "#     predictions = knn(train_data, test_data, k)\n",
        "#     accuracy = calculate_accuracy(test_data, predictions)\n",
        "#     accuracies.append(accuracy)\n",
        "\n",
        "for k in k_values:\n",
        "    predictions = knn(train_data, test_data, k)\n",
        "    accuracy = calculate_accuracy(test_data, predictions)\n",
        "    error_rate = 1 - accuracy\n",
        "    errors.append(error_rate)\n",
        "    accuracies.append(accuracy)"
      ],
      "metadata": {
        "id": "ZBVjS7nnMhDt"
      },
      "execution_count": 43,
      "outputs": []
    },
    {
      "cell_type": "markdown",
      "source": [
        "# Plot Error Rate vs. K"
      ],
      "metadata": {
        "id": "b66VQPkleCpm"
      }
    },
    {
      "cell_type": "code",
      "source": [
        "plot_error_rate(k_values, errors)\n",
        "best_k_error = k_values[errors.index(min(errors))]\n",
        "print(f\"Minimum error rate: {min(errors):.2f} at K = {best_k_error}\")"
      ],
      "metadata": {
        "colab": {
          "base_uri": "https://localhost:8080/",
          "height": 505
        },
        "id": "JLH1jk7Mdkay",
        "outputId": "f2270f64-9da0-4a8d-d663-8b489d8ec226"
      },
      "execution_count": 44,
      "outputs": [
        {
          "output_type": "display_data",
          "data": {
            "text/plain": [
              "<Figure size 800x500 with 1 Axes>"
            ],
            "image/png": "[encoded data removed]"
          },
          "metadata": {}
        },
        {
          "output_type": "stream",
          "name": "stdout",
          "text": [
            "Minimum error rate: 0.02 at K = 11\n"
          ]
        }
      ]
    },
    {
      "cell_type": "markdown",
      "source": [
        "# Plot Accuracy vs. K\n"
      ],
      "metadata": {
        "id": "QVSli1xYeFLa"
      }
    },
    {
      "cell_type": "code",
      "source": [
        "plot_accuracy(k_values, accuracies)\n",
        "best_k_accuracy = k_values[accuracies.index(max(accuracies))]\n",
        "print(f\"Maximum accuracy: {max(accuracies):.2f} at K = {best_k_accuracy}\")"
      ],
      "metadata": {
        "colab": {
          "base_uri": "https://localhost:8080/",
          "height": 505
        },
        "id": "2bV3_ulNdmqP",
        "outputId": "aebf69b2-b7ca-4f64-969f-b64f30767b75"
      },
      "execution_count": 45,
      "outputs": [
        {
          "output_type": "display_data",
          "data": {
            "text/plain": [
              "<Figure size 800x500 with 1 Axes>"
            ],
            "image/png": "[encoded data removed]"
          },
          "metadata": {}
        },
        {
          "output_type": "stream",
          "name": "stdout",
          "text": [
            "Maximum accuracy: 0.98 at K = 11\n"
          ]
        }
      ]
    },
    {
      "cell_type": "markdown",
      "source": [
        "# Final Predictions using the best K\n"
      ],
      "metadata": {
        "id": "gZTOU__3YBnG"
      }
    },
    {
      "cell_type": "code",
      "source": [
        "predictions = knn(train_data, test_data, best_k_accuracy)\n",
        "accuracy = calculate_accuracy(test_data, predictions)\n",
        "conf_matrix = confusion_matrix(test_data, predictions, label_mapping)\n",
        "\n",
        "print(f\"Final accuracy: {accuracy:.2f}\")\n",
        "print(\"Confusion Matrix:\")\n",
        "for row in conf_matrix:\n",
        "    print(row)"
      ],
      "metadata": {
        "colab": {
          "base_uri": "https://localhost:8080/"
        },
        "id": "MyfEojewYFkc",
        "outputId": "0c59e759-bb27-4cc4-95e5-1484411ce521"
      },
      "execution_count": 46,
      "outputs": [
        {
          "output_type": "stream",
          "name": "stdout",
          "text": [
            "Final accuracy: 0.98\n",
            "Confusion Matrix:\n",
            "[16, 0, 0]\n",
            "[0, 15, 0]\n",
            "[0, 1, 13]\n"
          ]
        }
      ]
    }
  ]
}